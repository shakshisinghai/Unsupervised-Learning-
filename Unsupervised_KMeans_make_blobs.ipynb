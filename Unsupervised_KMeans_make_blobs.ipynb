{
  "nbformat": 4,
  "nbformat_minor": 0,
  "metadata": {
    "colab": {
      "name": "Unsupervised_KMeans_make_blobs",
      "provenance": [],
      "collapsed_sections": [],
      "authorship_tag": "ABX9TyMcDcUPLXQxr4VAq3aXnRIv",
      "include_colab_link": true
    },
    "kernelspec": {
      "name": "python3",
      "display_name": "Python 3"
    }
  },
  "cells": [
    {
      "cell_type": "markdown",
      "metadata": {
        "id": "view-in-github",
        "colab_type": "text"
      },
      "source": [
        "<a href=\"https://colab.research.google.com/github/shakshisinghai/UnsupervisedLearning/blob/master/Unsupervised_KMeans_make_blobs.ipynb\" target=\"_parent\"><img src=\"https://colab.research.google.com/assets/colab-badge.svg\" alt=\"Open In Colab\"/></a>"
      ]
    },
    {
      "cell_type": "markdown",
      "metadata": {
        "id": "xcaG2RvKHmu7",
        "colab_type": "text"
      },
      "source": [
        "# Unsupervised Learning :"
      ]
    },
    {
      "cell_type": "markdown",
      "metadata": {
        "id": "JDsguhRvHySb",
        "colab_type": "text"
      },
      "source": [
        "## K Means Clustering\n",
        "Clustering is the task of dividing the population or data points into a number of groups such that data points in the same groups are more similar to other data points in the same group than those in other groups\n",
        "\n",
        "STEPS:\n",
        "1. Specify the desired number of clusters K\n",
        "2. Randomly assign each data point to a cluster \n",
        "3. Compute cluster centroids \n",
        "4. Re-assign each point to the closest cluster centroid \n",
        "5. Re-compute cluster centroids\n",
        "6. Repeat steps 4 and 5 until no improvements are possible \n",
        "\n",
        "\n",
        "\n",
        "\n",
        "\n",
        "\n",
        "\n"
      ]
    },
    {
      "cell_type": "code",
      "metadata": {
        "id": "xJCh6zf9HAq_",
        "colab_type": "code",
        "colab": {}
      },
      "source": [
        "import matplotlib.pyplot as plt\n",
        "from sklearn.datasets import make_blobs\n",
        "from sklearn.cluster import KMeans"
      ],
      "execution_count": null,
      "outputs": []
    },
    {
      "cell_type": "markdown",
      "metadata": {
        "id": "FhnSq4TEK47G",
        "colab_type": "text"
      },
      "source": [
        "[Dataset description](https://scikit-learn.org/stable/modules/generated/sklearn.datasets.make_blobs.html)\n",
        "\n",
        "Returns: \n",
        "* x= array of shape [n_samples, n_features]\n",
        "* y=[n_samples]\n",
        "* centersarray, shape [n_centers, n_features]"
      ]
    },
    {
      "cell_type": "code",
      "metadata": {
        "id": "5o11Ch2tI6pI",
        "colab_type": "code",
        "colab": {
          "base_uri": "https://localhost:8080/",
          "height": 265
        },
        "outputId": "f5e15a96-d907-49c3-a124-763430984c1b"
      },
      "source": [
        "x,y=make_blobs(n_samples=150, n_features=2,centers=4, cluster_std=0.5, random_state=0)\n",
        "\n",
        "plt.scatter(\n",
        "   x[:, 0], x[:, 1],\n",
        "   c='yellow', marker='o',\n",
        "   edgecolor='black')\n",
        "plt.show()"
      ],
      "execution_count": null,
      "outputs": [
        {
          "output_type": "display_data",
          "data": {
            "image/png": "[encoded data removed]",
            "text/plain": [
              "<Figure size 432x288 with 1 Axes>"
            ]
          },
          "metadata": {
            "tags": [],
            "needs_background": "light"
          }
        }
      ]
    },
    {
      "cell_type": "markdown",
      "metadata": {
        "id": "GRuxwphvW8rb",
        "colab_type": "text"
      },
      "source": [
        "## Training Model"
      ]
    },
    {
      "cell_type": "code",
      "metadata": {
        "id": "dI2yor3BMYLm",
        "colab_type": "code",
        "colab": {}
      },
      "source": [
        "km_model = KMeans(\n",
        "    n_clusters=4, init='random',\n",
        "    n_init=10, max_iter=300,  random_state=0\n",
        ")\n",
        "\n",
        "y_train=km_model.fit_predict(x)\n",
        "#print(x[:, 0], x[:, 1])\n",
        "#print(y_train)"
      ],
      "execution_count": null,
      "outputs": []
    },
    {
      "cell_type": "markdown",
      "metadata": {
        "id": "DX4C_1nXXDKc",
        "colab_type": "text"
      },
      "source": [
        "##Plotting the points based on output cluster"
      ]
    },
    {
      "cell_type": "code",
      "metadata": {
        "id": "1FpSMlD9Ph9h",
        "colab_type": "code",
        "colab": {
          "base_uri": "https://localhost:8080/",
          "height": 282
        },
        "outputId": "03f379b8-1781-4f15-b139-5a0668dbe310"
      },
      "source": [
        "plt.scatter(x[y_train==0,0], x[y_train==0,1], c='orange', marker=\"*\", s=150,  edgecolor='black',label='cluster 1')\n",
        "plt.scatter(x[y_train==1,0], x[y_train==1,1], c='lightgreen', marker=\"P\", s=150, edgecolor='black', label='cluster 2')\n",
        "plt.scatter(x[y_train==2,0], x[y_train==2,1], c='pink', marker=\"^\",s=150,  edgecolor='black',label='cluster 3')\n",
        "plt.scatter(x[y_train==3,0], x[y_train==3,1], c='lightblue', marker=\"s\", s=150 , edgecolor='black',label='cluster 4')\n",
        "plt.scatter( km_model.cluster_centers_[:, 0], km_model.cluster_centers_[:, 1], s=250, marker='*', c='yellow', edgecolor='black',label='centroids')\n",
        "\n",
        "plt.legend()\n"
      ],
      "execution_count": null,
      "outputs": [
        {
          "output_type": "execute_result",
          "data": {
            "text/plain": [
              "<matplotlib.legend.Legend at 0x7f597be88c50>"
            ]
          },
          "metadata": {
            "tags": []
          },
          "execution_count": 43
        },
        {
          "output_type": "display_data",
          "data": {
            "image/png": "[encoded data removed]",
            "text/plain": [
              "<Figure size 432x288 with 1 Axes>"
            ]
          },
          "metadata": {
            "tags": [],
            "needs_background": "light"
          }
        }
      ]
    }
  ]
}