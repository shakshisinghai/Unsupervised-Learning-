{
  "nbformat": 4,
  "nbformat_minor": 0,
  "metadata": {
    "colab": {
      "name": "Unsupervised_KMeans_MNIST",
      "provenance": [],
      "authorship_tag": "ABX9TyOS3VgUTE6QGKPQZQKpx6ML",
      "include_colab_link": true
    },
    "kernelspec": {
      "name": "python3",
      "display_name": "Python 3"
    }
  },
  "cells": [
    {
      "cell_type": "markdown",
      "metadata": {
        "id": "view-in-github",
        "colab_type": "text"
      },
      "source": [
        "<a href=\"https://colab.research.google.com/github/shakshisinghai/UnsupervisedLearning/blob/master/Unsupervised_KMeans_MNIST.ipynb\" target=\"_parent\"><img src=\"https://colab.research.google.com/assets/colab-badge.svg\" alt=\"Open In Colab\"/></a>"
      ]
    },
    {
      "cell_type": "code",
      "metadata": {
        "id": "83Q0Jv4Ubl_S",
        "colab_type": "code",
        "colab": {}
      },
      "source": [
        "import tensorflow as tf\n",
        "from matplotlib import pyplot as plt\n",
        "import numpy as np\n",
        "from sklearn.cluster import KMeans\n",
        "from sklearn.metrics import mean_squared_error"
      ],
      "execution_count": 2,
      "outputs": []
    },
    {
      "cell_type": "markdown",
      "metadata": {
        "id": "sJyODNSVhPur",
        "colab_type": "text"
      },
      "source": [
        "## Storing MNIST dataset"
      ]
    },
    {
      "cell_type": "code",
      "metadata": {
        "id": "-MvbL8OKcH8p",
        "colab_type": "code",
        "colab": {
          "base_uri": "https://localhost:8080/",
          "height": 51
        },
        "outputId": "6ac762a9-d2f4-4649-d719-8b4fe8e8c19c"
      },
      "source": [
        "((x_train, y_train), (x_test, y_test))=tf.keras.datasets.mnist.load_data()"
      ],
      "execution_count": 3,
      "outputs": [
        {
          "output_type": "stream",
          "text": [
            "Downloading data from https://storage.googleapis.com/tensorflow/tf-keras-datasets/mnist.npz\n",
            "11493376/11490434 [==============================] - 0s 0us/step\n"
          ],
          "name": "stdout"
        }
      ]
    },
    {
      "cell_type": "markdown",
      "metadata": {
        "id": "eRAgEgE_hnZK",
        "colab_type": "text"
      },
      "source": [
        "## Classifying Just 1 and 0 class\n",
        "Therefore extracting the data accordingly and reshaping them."
      ]
    },
    {
      "cell_type": "code",
      "metadata": {
        "id": "7LWacdC0cPto",
        "colab_type": "code",
        "colab": {
          "base_uri": "https://localhost:8080/",
          "height": 68
        },
        "outputId": "5d8e15e7-03c7-42c5-f9e0-25e372c6f41e"
      },
      "source": [
        "print(x_train.shape, y_train.shape)\n",
        "print(len(y_train[y_train==0])+len(y_train[y_train==1]))\n",
        "x_new=x_train.reshape(len(x_train), -1)\n",
        "x_new=x_new[np.logical_or(y_train==0 , y_train==1),:]\n",
        "y_new=y_train[np.logical_or(y_train==0 , y_train==1)]\n",
        "print(x_train.shape)\n",
        "\n"
      ],
      "execution_count": 4,
      "outputs": [
        {
          "output_type": "stream",
          "text": [
            "(60000, 28, 28) (60000,)\n",
            "12665\n",
            "(60000, 28, 28)\n"
          ],
          "name": "stdout"
        }
      ]
    },
    {
      "cell_type": "markdown",
      "metadata": {
        "id": "zbFTJalohrB2",
        "colab_type": "text"
      },
      "source": [
        "## Training the Model and Predicting the class\n",
        "* Class 0 of y_pred represents 1 of y_new\n",
        "* Class 1 of y_pred represents 0 of y_new"
      ]
    },
    {
      "cell_type": "code",
      "metadata": {
        "id": "kB47l0j4c8xz",
        "colab_type": "code",
        "colab": {
          "base_uri": "https://localhost:8080/",
          "height": 51
        },
        "outputId": "14378257-ec53-4524-ff85-0969eae93e72"
      },
      "source": [
        "km_model = KMeans(\n",
        "    n_clusters=2, init='random',\n",
        "    n_init=10, max_iter=300,  random_state=0\n",
        ")\n",
        "\n",
        "y_pred=km_model.fit_predict(x_new)\n",
        "print(y_new)\n",
        "print(y_pred)"
      ],
      "execution_count": 5,
      "outputs": [
        {
          "output_type": "stream",
          "text": [
            "[0 1 1 ... 1 0 1]\n",
            "[1 0 0 ... 0 1 0]\n"
          ],
          "name": "stdout"
        }
      ]
    },
    {
      "cell_type": "markdown",
      "metadata": {
        "id": "fpaRFEQ-hwxy",
        "colab_type": "text"
      },
      "source": [
        "## Model Accuracy"
      ]
    },
    {
      "cell_type": "code",
      "metadata": {
        "id": "djG2lRjgg_8P",
        "colab_type": "code",
        "colab": {
          "base_uri": "https://localhost:8080/",
          "height": 34
        },
        "outputId": "b0b9bd7b-38ff-4dc8-a449-3031f6163f12"
      },
      "source": [
        "accuracy=(mean_squared_error(y_new, y_pred))*100\n",
        "print(accuracy)"
      ],
      "execution_count": 6,
      "outputs": [
        {
          "output_type": "stream",
          "text": [
            "99.05250690880379\n"
          ],
          "name": "stdout"
        }
      ]
    },
    {
      "cell_type": "code",
      "metadata": {
        "id": "IA6Zm5C1h4BR",
        "colab_type": "code",
        "colab": {}
      },
      "source": [
        ""
      ],
      "execution_count": null,
      "outputs": []
    }
  ]
}